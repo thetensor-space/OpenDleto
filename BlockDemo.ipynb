{
 "cells": [
  {
   "cell_type": "markdown",
   "metadata": {},
   "source": [
    "# Load the code\n",
    "\n",
    "This notebook explores the basics of Open Dleto.  This version explores possible outcomes but leaves out the optimizations for performance which will come in a future release.  Start by loading the code."
   ]
  },
  {
   "cell_type": "code",
   "execution_count": 1,
   "metadata": {},
   "outputs": [
    {
     "data": {
      "text/plain": [
       "toCurveTensor"
      ]
     },
     "metadata": {},
     "output_type": "display_data"
    }
   ],
   "source": [
    "include(\"Dleto.jl\")\n"
   ]
  },
  {
   "cell_type": "markdown",
   "metadata": {},
   "source": [
    "\n",
    "## Block Demo.\n",
    "\n",
    "We start by creating a 3-tensor with a block decomposition.  We can do this by defining 3 arrays the columns of which are the nonzero values.\n"
   ]
  },
  {
   "cell_type": "code",
   "execution_count": 2,
   "metadata": {},
   "outputs": [
    {
     "data": {
      "text/plain": [
       "2×2×2 Array{Float64, 3}:\n",
       "[:, :, 1] =\n",
       " -0.464905  0.0\n",
       "  0.0       0.0\n",
       "\n",
       "[:, :, 2] =\n",
       " 0.0  0.0\n",
       " 0.0  0.442232"
      ]
     },
     "metadata": {},
     "output_type": "display_data"
    }
   ],
   "source": [
    "xs = [1,2]\n",
    "ys = [1,2]\n",
    "zs = [1,2]\n",
    "\n",
    "diag = randomCurveTensor( xs, ys, zs, 1.0)"
   ]
  },
  {
   "cell_type": "markdown",
   "metadata": {},
   "source": [
    "Randomize the tensor by converting the basis on each axis at random.  This function returns a structure with the tensor and the random transformations used.  These are not used by the algorithm but are provided for sanity checks."
   ]
  },
  {
   "cell_type": "code",
   "execution_count": 3,
   "metadata": {},
   "outputs": [
    {
     "data": {
      "text/plain": [
       "2×2×2 Array{Float64, 3}:\n",
       "[:, :, 1] =\n",
       " 0.0804202  0.303406\n",
       " 0.241019   0.240843\n",
       "\n",
       "[:, :, 2] =\n",
       "  0.31319   -0.0909351\n",
       " -0.196145   0.228598"
      ]
     },
     "metadata": {},
     "output_type": "display_data"
    }
   ],
   "source": [
    "rdiag = randomizeTensor(diag)\n",
    "rdiag.tensor"
   ]
  },
  {
   "cell_type": "markdown",
   "metadata": {},
   "source": [
    "Now lets recover the block diagonalizing coordinates from just the randomized tensor.  Again the return is a structure with multiple parameters, the tensor is accessed as `name.tensor`.  The result should be approximately diagonal.  (Note you may receive warnings from underlying packages like Arpack, this is a alpha version, we will look into such errors in the future.)"
   ]
  },
  {
   "cell_type": "code",
   "execution_count": 4,
   "metadata": {},
   "outputs": [
    {
     "name": "stdout",
     "output_type": "stream",
     "text": [
      "eigens[1] = [-1.1725106032627355e-16, 3.4838983485193785e-17, 0.41291848256047187, 0.44463932536879924, 0.6017181310052342, 0.6147486790788422, 0.6289688588796816, 1.0339802831386715]\n"
     ]
    },
    {
     "name": "stderr",
     "output_type": "stream",
     "text": [
      "┌ Warning: Adjusting nev from 20 to 8\n",
      "└ @ Arpack C:\\Users\\jwilson\\.julia\\packages\\Arpack\\FCvNd\\src\\Arpack.jl:92\n"
     ]
    },
    {
     "data": {
      "text/plain": [
       "2×2×2 Array{Float64, 3}:\n",
       "[:, :, 1] =\n",
       " -0.442232     -3.23673e-17\n",
       "  1.24926e-17  -7.64704e-18\n",
       "\n",
       "[:, :, 2] =\n",
       " 1.60372e-17   1.24926e-17\n",
       " 3.23673e-17  -0.464905"
      ]
     },
     "metadata": {},
     "output_type": "display_data"
    }
   ],
   "source": [
    "cdiag = toCurveTensor(rdiag.tensor)\n",
    "cdiag.tensor"
   ]
  },
  {
   "cell_type": "markdown",
   "metadata": {},
   "source": [
    "Now repeat the experiment with a larger tensor, for example use \n",
    "```julia\n",
    "xs = [1,1,2,2,2,3,3,3]\n",
    "ys = [1,1,1,2,2,3,3,3]\n",
    "zs = [1,1,1,2,2,2,3,3]\n",
    "\n",
    "tensorDiagonalBlock = randomCurveTensor( xs, ys, zs, 0.1)\n",
    "```\n",
    "Repeat the randomization and `toCurveTensor` operations.  Also play with the noise parameter here listed as 0.1."
   ]
  }
 ],
 "metadata": {
  "kernelspec": {
   "display_name": "Julia 1.6.3",
   "language": "julia",
   "name": "julia-1.6"
  },
  "language_info": {
   "file_extension": ".jl",
   "mimetype": "application/julia",
   "name": "julia",
   "version": "1.6.3"
  },
  "orig_nbformat": 4
 },
 "nbformat": 4,
 "nbformat_minor": 2
}
